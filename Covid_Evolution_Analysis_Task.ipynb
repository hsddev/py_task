{
 "cells": [
  {
   "cell_type": "markdown",
   "metadata": {},
   "source": [
    "In this project, we will analyze the evolution of Covid-19 worldwide. Data source: \n",
    "https://www.ecdc.europa.eu/en/publications-data/download-todays-data-geographic-distribution-covid-19-cases-worldwide"
   ]
  },
  {
   "cell_type": "markdown",
   "metadata": {},
   "source": [
    "Here are some questions that can guide our analysis:\n",
    "\n",
    "* What are the countries with the highest numbers of cases?\n",
    "\n",
    "* Which countries have a high mortality rate?\n",
    "\n",
    "* Did lockdown have an effect on the number of cases? (hint: use countries in which you consider to be relevant for this analysis)\n",
    "\n",
    "* Given the data, make a continental comparison over the circumstances.\n",
    "\n",
    "You are restricted to the usage of the following libraries: Pandas, numpy, matplotlib"
   ]
  },
  {
   "cell_type": "markdown",
   "metadata": {},
   "source": [
    "Little guidance is provided in this exercise deliberately to enable freedom of interpretation.\n",
    "\n",
    "Please make sure each question is answered with a graphical representation."
   ]
  },
  {
   "cell_type": "markdown",
   "metadata": {},
   "source": [
    "# Import the data\n"
   ]
  },
  {
   "cell_type": "code",
   "execution_count": null,
   "metadata": {},
   "outputs": [],
   "source": [
    "import pandas as pd\n",
    "import numpy as np\n",
    "import matplotlib.pyplot as plt\n",
    "%matplotlib inline"
   ]
  },
  {
   "cell_type": "code",
   "execution_count": null,
   "metadata": {},
   "outputs": [],
   "source": [
    "%pip install xlrd==1.2.0"
   ]
  }
 ],
 "metadata": {
  "kernelspec": {
   "display_name": "Covid_Evolution",
   "language": "python",
   "name": "python3"
  },
  "language_info": {
   "codemirror_mode": {
    "name": "ipython",
    "version": 3
   },
   "file_extension": ".py",
   "mimetype": "text/x-python",
   "name": "python",
   "nbconvert_exporter": "python",
   "pygments_lexer": "ipython3",
   "version": "3.12.2"
  }
 },
 "nbformat": 4,
 "nbformat_minor": 2
}
